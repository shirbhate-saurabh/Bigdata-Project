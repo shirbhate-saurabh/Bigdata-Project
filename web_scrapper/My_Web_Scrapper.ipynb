{
 "cells": [
  {
   "cell_type": "code",
   "execution_count": 1,
   "metadata": {},
   "outputs": [],
   "source": [
    "import requests\n",
    "import urllib.request\n",
    "from bs4 import BeautifulSoup\n",
    "import time"
   ]
  },
  {
   "cell_type": "code",
   "execution_count": 2,
   "metadata": {},
   "outputs": [],
   "source": [
    "url = 'https://www.eadventist.net/en/search.html?admin=&city=&class=2&ethnicity=&is_active=Y&language=&name=&page=1&pcode=&stateprov=&type=a'"
   ]
  },
  {
   "cell_type": "code",
   "execution_count": 3,
   "metadata": {},
   "outputs": [],
   "source": [
    "response = requests.get(url)"
   ]
  },
  {
   "cell_type": "code",
   "execution_count": 4,
   "metadata": {},
   "outputs": [
    {
     "data": {
      "text/plain": [
       "<Response [200]>"
      ]
     },
     "execution_count": 4,
     "metadata": {},
     "output_type": "execute_result"
    }
   ],
   "source": [
    "response #200 means it went through the site"
   ]
  },
  {
   "cell_type": "code",
   "execution_count": 5,
   "metadata": {},
   "outputs": [],
   "source": [
    "soup = BeautifulSoup(response.text, 'html.parser')"
   ]
  },
  {
   "cell_type": "code",
   "execution_count": 6,
   "metadata": {},
   "outputs": [
    {
     "data": {
      "text/plain": [
       "<!DOCTYPE html>\n",
       "\n",
       "<html>\n",
       "<head>\n",
       "<title>eAdventist - Organization Search - Find Adventist churches and other organizations</title>\n",
       "<meta content=\"width=device-width, initial-scale=1\" name=\"viewport\"/>\n",
       "<link href=\"/assets/favicon-0cbadc83fa41c420ca652a9581f35bbc.ico\" rel=\"shortcut icon\" type=\"image/vnd.microsoft.icon\"/>\n",
       "<meta content=\"Seventh-day Adventist Church, SDA church, NAD church, Adventist church, find Adventist churches, SDA church locator, locate Adventist church, find SDA churches, find SDA schools, Adventist ministers, SDA organizations, Adventist search, eAdventist church membership software, SDA school locator, Sabbath\" name=\"keywords\"/>\n",
       "<meta content=\"Find an Adventist church or search for Adventist schools and other organizations using eAdventist's online search. The official NAD church locator will help you find an Adventist church, SDA church, or NAD church. Locate SDA churches and schools to get information on these, and other, Seventh-day Adventist organizations.\" name=\"description\"/>\n",
       "<meta content=\"text/html;charset=utf-8\" http-equiv=\"content-type\">\n",
       "<link href=\"/assets/application-2748af14d79f2fb4a70cd8732bc17dac.css\" media=\"all\" rel=\"stylesheet\" type=\"text/css\"/>\n",
       "<link href=\"/assets/css/bulma.min-9c251dbfc67548f9bde593b50ee5efe3.css\" media=\"screen\" rel=\"stylesheet\" type=\"text/css\"/>\n",
       "<link href=\"/assets/search-caee5e19a135e15c8e8470a658cd340c.css\" media=\"all\" rel=\"stylesheet\" type=\"text/css\"/>\n",
       "<link href=\"//ajax.googleapis.com/ajax/libs/jqueryui/1.10.3/themes/smoothness/jquery-ui.css\" media=\"all\" rel=\"stylesheet\" type=\"text/css\"/>\n",
       "<script src=\"/assets/application-f47f1cf9be8efb29d8456b19012b08b0.js\" type=\"text/javascript\"></script> <script type=\"text/javascript\">\n",
       "      var hb_rails_env = 'production';\n",
       "      var hb_user_id = '0';\n",
       "      var hb_user_email = 'none';\n",
       "\n",
       "      $(function() {\n",
       "          $(\".navbar-burger\").click(function() {\n",
       "\n",
       "              // Toggle the \"is-active\" class on both the \"navbar-burger\" and the \"navbar-menu\"\n",
       "              $(\".navbar-burger\").toggleClass(\"is-active\");\n",
       "              $(\".navbar-menu\").toggleClass(\"is-active\");\n",
       "          });\n",
       "      });\n",
       "  </script>\n",
       "</meta></head>\n",
       "<body>\n",
       "<nav class=\"navbar has-shadow is-hidden-tablet\">\n",
       "<div class=\"navbar-brand\">\n",
       "<a class=\"navbar-burger left\">\n",
       "<span></span>\n",
       "<span></span>\n",
       "<span></span>\n",
       "</a>\n",
       "<a class=\"navbar-item\" href=\"/\">\n",
       "<img alt=\"Mainlogo_e_adventist_2\" src=\"/assets/mainlogo_e_adventist_2-e85685101c1509479d680fde8a3a041e.png\"/>\n",
       "</a>\n",
       "</div>\n",
       "<div class=\"navbar-menu is-paddingless\">\n",
       "<div class=\"navbar-start\">\n",
       "<a class=\"navbar-item home\" href=\"/\">Home</a>\n",
       "<a class=\"navbar-item organizations\" href=\"/contact_us\">Contact us</a>\n",
       "<a class=\"navbar-item reports\" href=\"/privacy\">Privacy statement</a>\n",
       "<a class=\"navbar-item people\" href=\"https://www.eadventist.net/login\">Membership login - eAdventist</a>\n",
       "<a class=\"navbar-item contacts\" href=\"https://personnel.eadventist.net/login\">Retirement login - Personnel</a>\n",
       "</div>\n",
       "</div>\n",
       "</nav>\n",
       "<div class=\"columns is-mobile is-centered\">\n",
       "<div class=\"column is-narrow is-hidden-mobile\">\n",
       "<div class=\"section is-paddingless ea-public-menu\">\n",
       "<ul>\n",
       "<li class=\"home\"><a href=\"/\" title=\"eAdventist\">HOME</a><div></div></li>\n",
       "<li class=\"contact\"><a href=\"/contact_us\">CONTACT US</a><div></div></li>\n",
       "<li class=\"privacy\"><a href=\"/privacy\">PRIVACY<br/>STATEMENT</a><div></div></li>\n",
       "<li class=\"membership\"><a href=\"https://www.eadventist.net/login\" title=\"Membership records for churches\"><span class=\"eadventist\">eAdventist</span><br/>MEMBERSHIP<br/>LOGIN</a><div></div></li>\n",
       "<li class=\"personnel\"><a href=\"https://personnel.eadventist.net/login\" title=\"Service records for employers\"><span class=\"eadventist\">Personnel</span><br/>RETIREMENT<br/>LOGIN</a><div></div></li>\n",
       "<li class=\"vacant\"></li>\n",
       "</ul>\n",
       "<div class=\"sda-logo\"><a href=\"http://www.adventist.org\" title=\"Adventist Church\"><img alt=\"Sda_logo_small\" src=\"/assets/sda_logo_small-4c4dd6976623f4f05c840e422a9939c9.png\"/></a></div>\n",
       "</div>\n",
       "</div>\n",
       "<div class=\"column is-narrow-fullhd\">\n",
       "<div class=\"columns is-desktop\">\n",
       "<div class=\"column\" id=\"content_column\">\n",
       "<div class=\"container ea-search-spacer is-hidden-mobile\"> </div>\n",
       "<div class=\"container\" id=\"iframe\">\n",
       "<div class=\"container title-bar is-size-2-tablet is-size-5-mobile\" style=\"\"><span id=\"title\">ADVANCED SEARCH</span></div>\n",
       "<div class=\"container\"><div class=\"search-header\">\n",
       "<div class=\"search-results\">6920 results <b>Active</b></div>\n",
       "<div class=\"search-links search-links-left\">\n",
       "<a href=\"/en/search?admin=&amp;city=&amp;class=2&amp;ethnicity=&amp;is_active=Y&amp;language=&amp;name=&amp;pcode=&amp;stateprov=&amp;type=a\">refine search</a>\n",
       "<a href=\"/en/search?class=2&amp;type=a\">new search</a>\n",
       "</div>\n",
       "</div>\n",
       "<table class=\"results-list\">\n",
       "<tr class=\"results-line-1\">\n",
       "<td rowspan=\"3\"><div class=\"number\">1</div></td>\n",
       "<td class=\"org-name\">100 Mile House SDA Church</td>\n",
       "</tr>\n",
       "<tr class=\"results-line-2\">\n",
       "<td class=\"org-address\">5489 Saunders Cres RR 1 Box 1259 Box 1259, 100 Mile House BC<span class=\"italic\"> — (778) 482-5334</span></td>\n",
       "</tr>\n",
       "<tr class=\"results-line-3\">\n",
       "<td class=\"org-links\">\n",
       "<a href=\"http://maps.google.com/maps?q=51.675444, -121.318895\" target=\"_blank\">Map</a> | <a href=\"http://100milehouseadventist.ca\" target=\"_blank\">Web site</a> | <a href=\"/en/search?class=2&amp;org=AN68GW\">More info</a></td>\n",
       "</tr>\n",
       "<tr class=\"results-line-1\">\n",
       "<td rowspan=\"3\"><div class=\"number\">2</div></td>\n",
       "<td class=\"org-name\">24-Seven SDA Ministry Center</td>\n",
       "</tr>\n",
       "<tr class=\"results-line-2\">\n",
       "<td class=\"org-address\">2015 Richards Rd, Bellevue WA<span class=\"italic\"> — (206) 419-8115 </span></td>\n",
       "</tr>\n",
       "<tr class=\"results-line-3\">\n",
       "<td class=\"org-links\">\n",
       "<a href=\"http://maps.google.com/maps?q=47.592373, -122.165471\" target=\"_blank\">Map</a> | <a href=\"http://www.24-Seven.org\" target=\"_blank\">Web site</a> | <a href=\"/en/search?class=2&amp;org=ANIMSN\">More info</a></td>\n",
       "</tr>\n",
       "<tr class=\"results-line-1\">\n",
       "<td rowspan=\"3\"><div class=\"number\">3</div></td>\n",
       "<td class=\"org-name\">3 Angeles<span class=\"italic\">/Tercer Angel</span></td>\n",
       "</tr>\n",
       "<tr class=\"results-line-2\">\n",
       "<td class=\"org-address\">4810 Southpoint Pkwy, Fredericksburg VA<span class=\"italic\"> — </span></td>\n",
       "</tr>\n",
       "<tr class=\"results-line-3\">\n",
       "<td class=\"org-links\">\n",
       "<a href=\"http://maps.google.com/maps?q=38.232502, -77.499814\" target=\"_blank\">Map</a> | <a href=\"http://angelesva.adventistchurch.org\" target=\"_blank\">Web site</a> | <a href=\"/en/search?class=2&amp;org=ANB4AG\">More info</a></td>\n",
       "</tr>\n",
       "<tr class=\"results-line-1\">\n",
       "<td rowspan=\"3\"><div class=\"number\">4</div></td>\n",
       "<td class=\"org-name\">3 Angels Ghanaian Company</td>\n",
       "</tr>\n",
       "<tr class=\"results-line-2\">\n",
       "<td class=\"org-address\">7250 NW Expressway, Oklahoma City OK<span class=\"italic\"> — </span></td>\n",
       "</tr>\n",
       "<tr class=\"results-line-3\">\n",
       "<td class=\"org-links\">\n",
       "<a href=\"http://maps.google.com/maps?q=35.558812, -97.642355\" target=\"_blank\">Map</a> | <a href=\"http://angelsghanaianok.adventistchurch.org\" target=\"_blank\">Web site</a> | <a href=\"/en/search?class=2&amp;org=ANW826\">More info</a></td>\n",
       "</tr>\n",
       "<tr class=\"results-line-1\">\n",
       "<td rowspan=\"3\"><div class=\"number\">5</div></td>\n",
       "<td class=\"org-name\">AIM Fellowship<span class=\"italic\">/Adventist International Ministry (AIM)</span></td>\n",
       "</tr>\n",
       "<tr class=\"results-line-2\">\n",
       "<td class=\"org-address\">4258 Bloor St W, Etobicoke ON<span class=\"italic\"> — </span></td>\n",
       "</tr>\n",
       "<tr class=\"results-line-3\">\n",
       "<td class=\"org-links\">\n",
       "<a href=\"http://maps.google.com/maps?q=43.63451, -79.567567\" target=\"_blank\">Map</a> | <a href=\"http://www.aimfellowship.com\" target=\"_blank\">Web site</a> | <a href=\"/en/search?class=2&amp;org=AN6MAI\">More info</a></td>\n",
       "</tr>\n",
       "<tr class=\"results-line-1\">\n",
       "<td rowspan=\"3\"><div class=\"number\">6</div></td>\n",
       "<td class=\"org-name\">ALSAD SDA Spanish Church<span class=\"italic\">/Loma Linda Spanish SDA Church</span></td>\n",
       "</tr>\n",
       "<tr class=\"results-line-2\">\n",
       "<td class=\"org-address\">11135 Mountain View Ave, Loma Linda CA<span class=\"italic\"> — 909-558-4992</span></td>\n",
       "</tr>\n",
       "<tr class=\"results-line-3\">\n",
       "<td class=\"org-links\">\n",
       "<a href=\"http://maps.google.com/maps?q=34.050737, -117.243277\" target=\"_blank\">Map</a> | <a href=\"http://www.lomalindaspanishchurch.org\" target=\"_blank\">Web site</a> | <a href=\"/en/search?class=2&amp;org=ANPMLS\">More info</a></td>\n",
       "</tr>\n",
       "<tr class=\"results-line-1\">\n",
       "<td rowspan=\"3\"><div class=\"number\">7</div></td>\n",
       "<td class=\"org-name\">Abacunguwe African Mission</td>\n",
       "</tr>\n",
       "<tr class=\"results-line-2\">\n",
       "<td class=\"org-address\">2500 E 5th Ave, Knoxville TN<span class=\"italic\"> — </span></td>\n",
       "</tr>\n",
       "<tr class=\"results-line-3\">\n",
       "<td class=\"org-links\">\n",
       "<a href=\"http://maps.google.com/maps?q=35.985845, -83.896742\" target=\"_blank\">Map</a> | <a href=\"http://abacunguweafricantn.adventistchurch.org\" target=\"_blank\">Web site</a> | <a href=\"/en/search?class=2&amp;org=ANTP2B\">More info</a></td>\n",
       "</tr>\n",
       "<tr class=\"results-line-1\">\n",
       "<td rowspan=\"3\"><div class=\"number\">8</div></td>\n",
       "<td class=\"org-name\">Abategereje SDA Company</td>\n",
       "</tr>\n",
       "<tr class=\"results-line-2\">\n",
       "<td class=\"org-address\">11102 Hillcroft St, Houston TX<span class=\"italic\"> — </span></td>\n",
       "</tr>\n",
       "<tr class=\"results-line-3\">\n",
       "<td class=\"org-links\">\n",
       "<a href=\"http://maps.google.com/maps?q=29.658859, -95.492353\" target=\"_blank\">Map</a> | Web site | <a href=\"/en/search?class=2&amp;org=ANWB22\">More info</a></td>\n",
       "</tr>\n",
       "<tr class=\"results-line-1\">\n",
       "<td rowspan=\"3\"><div class=\"number\">9</div></td>\n",
       "<td class=\"org-name\">Abbotsford Nueva Jerusalén Hispanic SDA</td>\n",
       "</tr>\n",
       "<tr class=\"results-line-2\">\n",
       "<td class=\"org-address\">203 Birch St, Abbotsford WI<span class=\"italic\"> — </span></td>\n",
       "</tr>\n",
       "<tr class=\"results-line-3\">\n",
       "<td class=\"org-links\">\n",
       "<a href=\"http://maps.google.com/maps?q=44.948355, -90.315908\" target=\"_blank\">Map</a> | Web site | <a href=\"/en/search?class=2&amp;org=ANFB22\">More info</a></td>\n",
       "</tr>\n",
       "<tr class=\"results-line-1\">\n",
       "<td rowspan=\"3\"><div class=\"number\">10</div></td>\n",
       "<td class=\"org-name\">Abbotsford SDA Church</td>\n",
       "</tr>\n",
       "<tr class=\"results-line-2\">\n",
       "<td class=\"org-address\">1921 Griffiths Rd, Abbotsford BC<span class=\"italic\"> — 604-853-9703</span></td>\n",
       "</tr>\n",
       "<tr class=\"results-line-3\">\n",
       "<td class=\"org-links\">\n",
       "<a href=\"http://maps.google.com/maps?q=49.03767, -122.265481\" target=\"_blank\">Map</a> | <a href=\"http://www.abbotsfordadventist.ca\" target=\"_blank\">Web site</a> | <a href=\"/en/search?class=2&amp;org=AN68B6\">More info</a></td>\n",
       "</tr>\n",
       "</table>\n",
       "<div class=\"pagination\"><span class=\"previous_page disabled\">← Previous</span> <em class=\"current\">1</em> <a href=\"/en/search.html?admin=&amp;city=&amp;class=2&amp;ethnicity=&amp;is_active=Y&amp;language=&amp;name=&amp;page=2&amp;pcode=&amp;stateprov=&amp;type=a\" rel=\"next\">2</a> <a href=\"/en/search.html?admin=&amp;city=&amp;class=2&amp;ethnicity=&amp;is_active=Y&amp;language=&amp;name=&amp;page=3&amp;pcode=&amp;stateprov=&amp;type=a\">3</a> <a href=\"/en/search.html?admin=&amp;city=&amp;class=2&amp;ethnicity=&amp;is_active=Y&amp;language=&amp;name=&amp;page=4&amp;pcode=&amp;stateprov=&amp;type=a\">4</a> <a href=\"/en/search.html?admin=&amp;city=&amp;class=2&amp;ethnicity=&amp;is_active=Y&amp;language=&amp;name=&amp;page=5&amp;pcode=&amp;stateprov=&amp;type=a\">5</a> <a href=\"/en/search.html?admin=&amp;city=&amp;class=2&amp;ethnicity=&amp;is_active=Y&amp;language=&amp;name=&amp;page=6&amp;pcode=&amp;stateprov=&amp;type=a\">6</a> <a href=\"/en/search.html?admin=&amp;city=&amp;class=2&amp;ethnicity=&amp;is_active=Y&amp;language=&amp;name=&amp;page=7&amp;pcode=&amp;stateprov=&amp;type=a\">7</a> <a href=\"/en/search.html?admin=&amp;city=&amp;class=2&amp;ethnicity=&amp;is_active=Y&amp;language=&amp;name=&amp;page=8&amp;pcode=&amp;stateprov=&amp;type=a\">8</a> <a href=\"/en/search.html?admin=&amp;city=&amp;class=2&amp;ethnicity=&amp;is_active=Y&amp;language=&amp;name=&amp;page=9&amp;pcode=&amp;stateprov=&amp;type=a\">9</a> <span class=\"gap\">…</span> <a href=\"/en/search.html?admin=&amp;city=&amp;class=2&amp;ethnicity=&amp;is_active=Y&amp;language=&amp;name=&amp;page=691&amp;pcode=&amp;stateprov=&amp;type=a\">691</a> <a href=\"/en/search.html?admin=&amp;city=&amp;class=2&amp;ethnicity=&amp;is_active=Y&amp;language=&amp;name=&amp;page=692&amp;pcode=&amp;stateprov=&amp;type=a\">692</a> <a class=\"next_page\" href=\"/en/search.html?admin=&amp;city=&amp;class=2&amp;ethnicity=&amp;is_active=Y&amp;language=&amp;name=&amp;page=2&amp;pcode=&amp;stateprov=&amp;type=a\" rel=\"next\">Next →</a></div>\n",
       "</div>\n",
       "</div>\n",
       "</div>\n",
       "<div class=\"column is-narrow is-hidden-touch ea-search-column\">\n",
       "<div class=\"container ea-logo\">\n",
       "<img alt=\"Mainlogo_e_adventist_2\" src=\"/assets/mainlogo_e_adventist_2-e85685101c1509479d680fde8a3a041e.png\"/>\n",
       "</div>\n",
       "<div class=\"container\" id=\"resources\">\n",
       "<dl>\n",
       "<dt>Add Search to your site</dt>\n",
       "<dd><a class=\"l-fancy-link\" href=\"http://eadventist.helpscoutdocs.com/article/39-adding-search-to-your-site\">Tell me how</a></dd>\n",
       "</dl>\n",
       "</div>\n",
       "</div>\n",
       "</div>\n",
       "<div class=\"container\" id=\"l-copyright\">Ver. 4.0 - Copyright © 2020 <a href=\"http://www.nadadventist.org\">North American Division</a></div>\n",
       "</div>\n",
       "</div></body></html>"
      ]
     },
     "execution_count": 6,
     "metadata": {},
     "output_type": "execute_result"
    }
   ],
   "source": [
    "soup"
   ]
  },
  {
   "cell_type": "code",
   "execution_count": 7,
   "metadata": {},
   "outputs": [
    {
     "data": {
      "text/plain": [
       "[<a class=\"navbar-burger left\">\n",
       " <span></span>\n",
       " <span></span>\n",
       " <span></span>\n",
       " </a>, <a class=\"navbar-item\" href=\"/\">\n",
       " <img alt=\"Mainlogo_e_adventist_2\" src=\"/assets/mainlogo_e_adventist_2-e85685101c1509479d680fde8a3a041e.png\"/>\n",
       " </a>, <a class=\"navbar-item home\" href=\"/\">Home</a>, <a class=\"navbar-item organizations\" href=\"/contact_us\">Contact us</a>, <a class=\"navbar-item reports\" href=\"/privacy\">Privacy statement</a>, <a class=\"navbar-item people\" href=\"https://www.eadventist.net/login\">Membership login - eAdventist</a>, <a class=\"navbar-item contacts\" href=\"https://personnel.eadventist.net/login\">Retirement login - Personnel</a>, <a href=\"/\" title=\"eAdventist\">HOME</a>, <a href=\"/contact_us\">CONTACT US</a>, <a href=\"/privacy\">PRIVACY<br/>STATEMENT</a>, <a href=\"https://www.eadventist.net/login\" title=\"Membership records for churches\"><span class=\"eadventist\">eAdventist</span><br/>MEMBERSHIP<br/>LOGIN</a>, <a href=\"https://personnel.eadventist.net/login\" title=\"Service records for employers\"><span class=\"eadventist\">Personnel</span><br/>RETIREMENT<br/>LOGIN</a>, <a href=\"http://www.adventist.org\" title=\"Adventist Church\"><img alt=\"Sda_logo_small\" src=\"/assets/sda_logo_small-4c4dd6976623f4f05c840e422a9939c9.png\"/></a>, <a href=\"/en/search?admin=&amp;city=&amp;class=2&amp;ethnicity=&amp;is_active=Y&amp;language=&amp;name=&amp;pcode=&amp;stateprov=&amp;type=a\">refine search</a>, <a href=\"/en/search?class=2&amp;type=a\">new search</a>, <a href=\"http://maps.google.com/maps?q=51.675444, -121.318895\" target=\"_blank\">Map</a>, <a href=\"http://100milehouseadventist.ca\" target=\"_blank\">Web site</a>, <a href=\"/en/search?class=2&amp;org=AN68GW\">More info</a>, <a href=\"http://maps.google.com/maps?q=47.592373, -122.165471\" target=\"_blank\">Map</a>, <a href=\"http://www.24-Seven.org\" target=\"_blank\">Web site</a>, <a href=\"/en/search?class=2&amp;org=ANIMSN\">More info</a>, <a href=\"http://maps.google.com/maps?q=38.232502, -77.499814\" target=\"_blank\">Map</a>, <a href=\"http://angelesva.adventistchurch.org\" target=\"_blank\">Web site</a>, <a href=\"/en/search?class=2&amp;org=ANB4AG\">More info</a>, <a href=\"http://maps.google.com/maps?q=35.558812, -97.642355\" target=\"_blank\">Map</a>, <a href=\"http://angelsghanaianok.adventistchurch.org\" target=\"_blank\">Web site</a>, <a href=\"/en/search?class=2&amp;org=ANW826\">More info</a>, <a href=\"http://maps.google.com/maps?q=43.63451, -79.567567\" target=\"_blank\">Map</a>, <a href=\"http://www.aimfellowship.com\" target=\"_blank\">Web site</a>, <a href=\"/en/search?class=2&amp;org=AN6MAI\">More info</a>, <a href=\"http://maps.google.com/maps?q=34.050737, -117.243277\" target=\"_blank\">Map</a>, <a href=\"http://www.lomalindaspanishchurch.org\" target=\"_blank\">Web site</a>, <a href=\"/en/search?class=2&amp;org=ANPMLS\">More info</a>, <a href=\"http://maps.google.com/maps?q=35.985845, -83.896742\" target=\"_blank\">Map</a>, <a href=\"http://abacunguweafricantn.adventistchurch.org\" target=\"_blank\">Web site</a>, <a href=\"/en/search?class=2&amp;org=ANTP2B\">More info</a>, <a href=\"http://maps.google.com/maps?q=29.658859, -95.492353\" target=\"_blank\">Map</a>, <a href=\"/en/search?class=2&amp;org=ANWB22\">More info</a>, <a href=\"http://maps.google.com/maps?q=44.948355, -90.315908\" target=\"_blank\">Map</a>, <a href=\"/en/search?class=2&amp;org=ANFB22\">More info</a>, <a href=\"http://maps.google.com/maps?q=49.03767, -122.265481\" target=\"_blank\">Map</a>, <a href=\"http://www.abbotsfordadventist.ca\" target=\"_blank\">Web site</a>, <a href=\"/en/search?class=2&amp;org=AN68B6\">More info</a>, <a href=\"/en/search.html?admin=&amp;city=&amp;class=2&amp;ethnicity=&amp;is_active=Y&amp;language=&amp;name=&amp;page=2&amp;pcode=&amp;stateprov=&amp;type=a\" rel=\"next\">2</a>, <a href=\"/en/search.html?admin=&amp;city=&amp;class=2&amp;ethnicity=&amp;is_active=Y&amp;language=&amp;name=&amp;page=3&amp;pcode=&amp;stateprov=&amp;type=a\">3</a>, <a href=\"/en/search.html?admin=&amp;city=&amp;class=2&amp;ethnicity=&amp;is_active=Y&amp;language=&amp;name=&amp;page=4&amp;pcode=&amp;stateprov=&amp;type=a\">4</a>, <a href=\"/en/search.html?admin=&amp;city=&amp;class=2&amp;ethnicity=&amp;is_active=Y&amp;language=&amp;name=&amp;page=5&amp;pcode=&amp;stateprov=&amp;type=a\">5</a>, <a href=\"/en/search.html?admin=&amp;city=&amp;class=2&amp;ethnicity=&amp;is_active=Y&amp;language=&amp;name=&amp;page=6&amp;pcode=&amp;stateprov=&amp;type=a\">6</a>, <a href=\"/en/search.html?admin=&amp;city=&amp;class=2&amp;ethnicity=&amp;is_active=Y&amp;language=&amp;name=&amp;page=7&amp;pcode=&amp;stateprov=&amp;type=a\">7</a>, <a href=\"/en/search.html?admin=&amp;city=&amp;class=2&amp;ethnicity=&amp;is_active=Y&amp;language=&amp;name=&amp;page=8&amp;pcode=&amp;stateprov=&amp;type=a\">8</a>, <a href=\"/en/search.html?admin=&amp;city=&amp;class=2&amp;ethnicity=&amp;is_active=Y&amp;language=&amp;name=&amp;page=9&amp;pcode=&amp;stateprov=&amp;type=a\">9</a>, <a href=\"/en/search.html?admin=&amp;city=&amp;class=2&amp;ethnicity=&amp;is_active=Y&amp;language=&amp;name=&amp;page=691&amp;pcode=&amp;stateprov=&amp;type=a\">691</a>, <a href=\"/en/search.html?admin=&amp;city=&amp;class=2&amp;ethnicity=&amp;is_active=Y&amp;language=&amp;name=&amp;page=692&amp;pcode=&amp;stateprov=&amp;type=a\">692</a>, <a class=\"next_page\" href=\"/en/search.html?admin=&amp;city=&amp;class=2&amp;ethnicity=&amp;is_active=Y&amp;language=&amp;name=&amp;page=2&amp;pcode=&amp;stateprov=&amp;type=a\" rel=\"next\">Next →</a>, <a class=\"l-fancy-link\" href=\"http://eadventist.helpscoutdocs.com/article/39-adding-search-to-your-site\">Tell me how</a>, <a href=\"http://www.nadadventist.org\">North American Division</a>]"
      ]
     },
     "execution_count": 7,
     "metadata": {},
     "output_type": "execute_result"
    }
   ],
   "source": [
    "soup.findAll('a')"
   ]
  },
  {
   "cell_type": "code",
   "execution_count": 8,
   "metadata": {},
   "outputs": [],
   "source": [
    "tags = soup.findAll('a')[17]"
   ]
  },
  {
   "cell_type": "code",
   "execution_count": 9,
   "metadata": {},
   "outputs": [
    {
     "data": {
      "text/plain": [
       "<a href=\"/en/search?class=2&amp;org=AN68GW\">More info</a>"
      ]
     },
     "execution_count": 9,
     "metadata": {},
     "output_type": "execute_result"
    }
   ],
   "source": [
    "tags"
   ]
  },
  {
   "cell_type": "code",
   "execution_count": 10,
   "metadata": {},
   "outputs": [
    {
     "data": {
      "text/plain": [
       "'/en/search?class=2&org=AN68GW'"
      ]
     },
     "execution_count": 10,
     "metadata": {},
     "output_type": "execute_result"
    }
   ],
   "source": [
    "link = tags['href']\n",
    "link"
   ]
  },
  {
   "cell_type": "code",
   "execution_count": 28,
   "metadata": {},
   "outputs": [],
   "source": [
    "line_count = 1\n",
    "data = []\n",
    "next_pages = ['https://www.eadventist.net/en/search.html?admin=&city=&class=2&ethnicity=&is_active=Y&language=&name=&page=1&pcode=&stateprov=&type=a']\n",
    "for tags in soup.findAll('a'):\n",
    "    if line_count >= 18 :\n",
    "        link = tags['href']\n",
    "        if link.find('http://'):\n",
    "            pass\n",
    "        for lk in soup.findAll(rel = 'next'):\n",
    "                nxt = lk\n",
    "                next_page = nxt['href']\n",
    "                next_page_url = 'https://www.eadventist.net' + next_page\n",
    "        data_url = 'https://www.eadventist.net' + link\n",
    "        data.append(data_url)\n",
    "        time.sleep(1)\n",
    "    line_count +=1\n",
    "next_pages.append(next_page_url)\n"
   ]
  },
  {
   "cell_type": "code",
   "execution_count": 29,
   "metadata": {},
   "outputs": [
    {
     "data": {
      "text/plain": [
       "['https://www.eadventist.net/en/search.html?admin=&city=&class=2&ethnicity=&is_active=Y&language=&name=&page=1&pcode=&stateprov=&type=a',\n",
       " 'https://www.eadventist.net/en/search.html?admin=&city=&class=2&ethnicity=&is_active=Y&language=&name=&page=2&pcode=&stateprov=&type=a']"
      ]
     },
     "execution_count": 29,
     "metadata": {},
     "output_type": "execute_result"
    }
   ],
   "source": [
    "next_pages"
   ]
  },
  {
   "cell_type": "code",
   "execution_count": 30,
   "metadata": {},
   "outputs": [
    {
     "data": {
      "text/plain": [
       "['https://www.eadventist.net/en/search?class=2&org=AN68GW',\n",
       " 'https://www.eadventist.nethttp://maps.google.com/maps?q=47.592373, -122.165471',\n",
       " 'https://www.eadventist.nethttp://www.24-Seven.org',\n",
       " 'https://www.eadventist.net/en/search?class=2&org=ANIMSN',\n",
       " 'https://www.eadventist.nethttp://maps.google.com/maps?q=38.232502, -77.499814',\n",
       " 'https://www.eadventist.nethttp://angelesva.adventistchurch.org',\n",
       " 'https://www.eadventist.net/en/search?class=2&org=ANB4AG',\n",
       " 'https://www.eadventist.nethttp://maps.google.com/maps?q=35.558812, -97.642355',\n",
       " 'https://www.eadventist.nethttp://angelsghanaianok.adventistchurch.org',\n",
       " 'https://www.eadventist.net/en/search?class=2&org=ANW826',\n",
       " 'https://www.eadventist.nethttp://maps.google.com/maps?q=43.63451, -79.567567',\n",
       " 'https://www.eadventist.nethttp://www.aimfellowship.com',\n",
       " 'https://www.eadventist.net/en/search?class=2&org=AN6MAI',\n",
       " 'https://www.eadventist.nethttp://maps.google.com/maps?q=34.050737, -117.243277',\n",
       " 'https://www.eadventist.nethttp://www.lomalindaspanishchurch.org',\n",
       " 'https://www.eadventist.net/en/search?class=2&org=ANPMLS',\n",
       " 'https://www.eadventist.nethttp://maps.google.com/maps?q=35.985845, -83.896742',\n",
       " 'https://www.eadventist.nethttp://abacunguweafricantn.adventistchurch.org',\n",
       " 'https://www.eadventist.net/en/search?class=2&org=ANTP2B',\n",
       " 'https://www.eadventist.nethttp://maps.google.com/maps?q=29.658859, -95.492353',\n",
       " 'https://www.eadventist.net/en/search?class=2&org=ANWB22',\n",
       " 'https://www.eadventist.nethttp://maps.google.com/maps?q=44.948355, -90.315908',\n",
       " 'https://www.eadventist.net/en/search?class=2&org=ANFB22',\n",
       " 'https://www.eadventist.nethttp://maps.google.com/maps?q=49.03767, -122.265481',\n",
       " 'https://www.eadventist.nethttp://www.abbotsfordadventist.ca',\n",
       " 'https://www.eadventist.net/en/search?class=2&org=AN68B6',\n",
       " 'https://www.eadventist.net/en/search.html?admin=&city=&class=2&ethnicity=&is_active=Y&language=&name=&page=2&pcode=&stateprov=&type=a',\n",
       " 'https://www.eadventist.net/en/search.html?admin=&city=&class=2&ethnicity=&is_active=Y&language=&name=&page=3&pcode=&stateprov=&type=a',\n",
       " 'https://www.eadventist.net/en/search.html?admin=&city=&class=2&ethnicity=&is_active=Y&language=&name=&page=4&pcode=&stateprov=&type=a',\n",
       " 'https://www.eadventist.net/en/search.html?admin=&city=&class=2&ethnicity=&is_active=Y&language=&name=&page=5&pcode=&stateprov=&type=a',\n",
       " 'https://www.eadventist.net/en/search.html?admin=&city=&class=2&ethnicity=&is_active=Y&language=&name=&page=6&pcode=&stateprov=&type=a',\n",
       " 'https://www.eadventist.net/en/search.html?admin=&city=&class=2&ethnicity=&is_active=Y&language=&name=&page=7&pcode=&stateprov=&type=a',\n",
       " 'https://www.eadventist.net/en/search.html?admin=&city=&class=2&ethnicity=&is_active=Y&language=&name=&page=8&pcode=&stateprov=&type=a',\n",
       " 'https://www.eadventist.net/en/search.html?admin=&city=&class=2&ethnicity=&is_active=Y&language=&name=&page=9&pcode=&stateprov=&type=a',\n",
       " 'https://www.eadventist.net/en/search.html?admin=&city=&class=2&ethnicity=&is_active=Y&language=&name=&page=691&pcode=&stateprov=&type=a',\n",
       " 'https://www.eadventist.net/en/search.html?admin=&city=&class=2&ethnicity=&is_active=Y&language=&name=&page=692&pcode=&stateprov=&type=a',\n",
       " 'https://www.eadventist.net/en/search.html?admin=&city=&class=2&ethnicity=&is_active=Y&language=&name=&page=2&pcode=&stateprov=&type=a',\n",
       " 'https://www.eadventist.nethttp://eadventist.helpscoutdocs.com/article/39-adding-search-to-your-site',\n",
       " 'https://www.eadventist.nethttp://www.nadadventist.org']"
      ]
     },
     "execution_count": 30,
     "metadata": {},
     "output_type": "execute_result"
    }
   ],
   "source": [
    "data"
   ]
  },
  {
   "cell_type": "code",
   "execution_count": null,
   "metadata": {},
   "outputs": [],
   "source": [
    "data.sort()"
   ]
  },
  {
   "cell_type": "code",
   "execution_count": null,
   "metadata": {},
   "outputs": [],
   "source": [
    "data"
   ]
  },
  {
   "cell_type": "code",
   "execution_count": null,
   "metadata": {},
   "outputs": [],
   "source": [
    "for i in data:\n",
    "    print(i)"
   ]
  },
  {
   "cell_type": "code",
   "execution_count": null,
   "metadata": {},
   "outputs": [],
   "source": [
    "soup.findAll('table')"
   ]
  },
  {
   "cell_type": "code",
   "execution_count": null,
   "metadata": {},
   "outputs": [],
   "source": [
    "print(soup.prettify())"
   ]
  },
  {
   "cell_type": "code",
   "execution_count": null,
   "metadata": {},
   "outputs": [],
   "source": [
    "tag1 = soup.findAll(rel = 'next')[0]\n",
    "tag1"
   ]
  },
  {
   "cell_type": "code",
   "execution_count": null,
   "metadata": {},
   "outputs": [],
   "source": [
    "link2 = tag1['href']\n",
    "link2"
   ]
  },
  {
   "cell_type": "code",
   "execution_count": null,
   "metadata": {},
   "outputs": [],
   "source": [
    "next_page = 'https://www.eadventist.net' + link2"
   ]
  },
  {
   "cell_type": "code",
   "execution_count": null,
   "metadata": {},
   "outputs": [],
   "source": [
    "next_page"
   ]
  },
  {
   "cell_type": "code",
   "execution_count": null,
   "metadata": {},
   "outputs": [],
   "source": [
    "with urllib.request.urlopen(next_page)as f:\n",
    "    print(f.read())"
   ]
  },
  {
   "cell_type": "code",
   "execution_count": null,
   "metadata": {},
   "outputs": [],
   "source": [
    "link\n",
    "    "
   ]
  },
  {
   "cell_type": "code",
   "execution_count": null,
   "metadata": {},
   "outputs": [],
   "source": []
  }
 ],
 "metadata": {
  "kernelspec": {
   "display_name": "Python 3",
   "language": "python",
   "name": "python3"
  },
  "language_info": {
   "codemirror_mode": {
    "name": "ipython",
    "version": 3
   },
   "file_extension": ".py",
   "mimetype": "text/x-python",
   "name": "python",
   "nbconvert_exporter": "python",
   "pygments_lexer": "ipython3",
   "version": "3.7.4"
  }
 },
 "nbformat": 4,
 "nbformat_minor": 2
}
